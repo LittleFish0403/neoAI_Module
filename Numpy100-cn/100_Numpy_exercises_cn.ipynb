{
 "cells": [
  {
   "cell_type": "markdown",
   "id": "6293cc50",
   "metadata": {},
   "source": [
    "# 100 个 NumPy 练习\n",
    "\n"
   ]
  },
  {
   "cell_type": "markdown",
   "id": "a167c052",
   "metadata": {},
   "source": [
    "该Numpy练习翻译自项目：https://github.com/rougier/numpy-100， <br/>\n",
    "对于练习题中的题目进行**重新排序并汉化**，对表述不太清晰的题目**加入例子辅助**， <br/>\n",
    "直接**将hint放在题目下方**，更方便新手去查询使用方法。"
   ]
  },
  {
   "cell_type": "markdown",
   "id": "c892c3e4",
   "metadata": {},
   "source": [
    "Numpy官方文档：https://numpy.org/doc/stable/index.html"
   ]
  },
  {
   "cell_type": "markdown",
   "id": "57fc0ee5",
   "metadata": {},
   "source": [
    "运行`initialize.py`，然后在代码框内答题，自行查看运行结果是否正确 "
   ]
  },
  {
   "cell_type": "code",
   "execution_count": 1,
   "id": "3d46fba2",
   "metadata": {},
   "outputs": [],
   "source": [
    "%run initialise.py"
   ]
  },
  {
   "cell_type": "markdown",
   "id": "13460354",
   "metadata": {},
   "source": [
    "## 基础题\n",
    "最简单的numpy入门级题目，看完quickstart，简单查询函数使用方法即可"
   ]
  },
  {
   "cell_type": "markdown",
   "id": "3c1222ff",
   "metadata": {},
   "source": [
    "#### 1. 导入名为 `np` 的 numpy 包 (★☆☆)  \n",
    "`hint: import … as`"
   ]
  },
  {
   "cell_type": "code",
   "execution_count": 3,
   "id": "f52e6a0b",
   "metadata": {},
   "outputs": [],
   "source": []
  },
  {
   "cell_type": "markdown",
   "id": "9d9f4753",
   "metadata": {},
   "source": [
    "#### 2. 打印 numpy 的版本和配置信息 (★☆☆)    \n",
    "`hint: np.__version__, np.show_config`"
   ]
  },
  {
   "cell_type": "code",
   "execution_count": null,
   "id": "c9086637",
   "metadata": {},
   "outputs": [],
   "source": []
  },
  {
   "cell_type": "markdown",
   "id": "b7fa5fa1",
   "metadata": {},
   "source": [
    "#### 3. 如何从命令行获取 numpy add 函数的文档？ (★☆☆) \n",
    "`hint: np.info`"
   ]
  },
  {
   "cell_type": "code",
   "execution_count": null,
   "id": "b981f75b",
   "metadata": {},
   "outputs": [],
   "source": []
  },
  {
   "cell_type": "markdown",
   "id": "f0a48b94",
   "metadata": {},
   "source": [
    "#### 4. 如何找到任何数组的内存大小 (★☆☆) \n",
    "`hint: size, itemsize`"
   ]
  },
  {
   "cell_type": "code",
   "execution_count": null,
   "id": "8fc77236",
   "metadata": {},
   "outputs": [],
   "source": []
  },
  {
   "cell_type": "markdown",
   "id": "3e4c23c6",
   "metadata": {},
   "source": [
    "#### 5. 创建一个大小为 10 的空向量 (★☆☆) \n",
    "`hint: np.zeros`"
   ]
  },
  {
   "cell_type": "code",
   "execution_count": null,
   "id": "083c5c46",
   "metadata": {},
   "outputs": [],
   "source": []
  },
  {
   "cell_type": "markdown",
   "id": "e0c739c6",
   "metadata": {},
   "source": [
    "#### 6. 创建一个大小为 10 的空向量，但第五个值是 1 (★☆☆) \n",
    "`hint: array[4]`"
   ]
  },
  {
   "cell_type": "code",
   "execution_count": null,
   "id": "bcceacf7",
   "metadata": {},
   "outputs": [],
   "source": []
  },
  {
   "cell_type": "markdown",
   "id": "fbebedab",
   "metadata": {},
   "source": [
    "#### 7. 创建一个值范围从 10 到 49 的向量 (★☆☆) \n",
    "`hint: arange`"
   ]
  },
  {
   "cell_type": "code",
   "execution_count": null,
   "id": "3d117d54",
   "metadata": {},
   "outputs": [],
   "source": []
  },
  {
   "cell_type": "markdown",
   "id": "ad0bff02",
   "metadata": {},
   "source": [
    "#### 8. 反转一个向量（第一个元素变为最后一个） (★☆☆) \n",
    "`hint: array[::-1]`"
   ]
  },
  {
   "cell_type": "code",
   "execution_count": null,
   "id": "22d23470",
   "metadata": {},
   "outputs": [],
   "source": []
  },
  {
   "cell_type": "markdown",
   "id": "9f59d7e1",
   "metadata": {},
   "source": [
    "#### 9. 创建一个 3x3 的矩阵，值范围从 0 到 8 (★☆☆) \n",
    "`hint: reshape`"
   ]
  },
  {
   "cell_type": "code",
   "execution_count": null,
   "id": "7449e82d",
   "metadata": {},
   "outputs": [],
   "source": []
  },
  {
   "cell_type": "markdown",
   "id": "f374c4cf",
   "metadata": {},
   "source": [
    "#### 10. 找到 [1,2,0,0,4,0] 中非零元素的索引 (★☆☆) \n",
    "`hint: np.nonzero`"
   ]
  },
  {
   "cell_type": "code",
   "execution_count": null,
   "id": "1a84bed8",
   "metadata": {},
   "outputs": [],
   "source": []
  },
  {
   "cell_type": "markdown",
   "id": "9c4707f5",
   "metadata": {},
   "source": [
    "#### 11. 创建一个 3x3 的单位矩阵 (★☆☆) \n",
    "`hint: np.eye`"
   ]
  },
  {
   "cell_type": "code",
   "execution_count": null,
   "id": "29dc1fd3",
   "metadata": {},
   "outputs": [],
   "source": []
  },
  {
   "cell_type": "markdown",
   "id": "3bac294a",
   "metadata": {},
   "source": [
    "#### 12. 创建一个包含随机值的 3x3x3 数组 (★☆☆) \n",
    "`hint: np.random.random`"
   ]
  },
  {
   "cell_type": "code",
   "execution_count": null,
   "id": "eadfae67",
   "metadata": {},
   "outputs": [],
   "source": []
  },
  {
   "cell_type": "markdown",
   "id": "466c2989",
   "metadata": {},
   "source": [
    "#### 13. 创建一个 10x10 的随机值数组，并找到最小值和最大值 (★☆☆) \n",
    "`hint: min, max`"
   ]
  },
  {
   "cell_type": "code",
   "execution_count": null,
   "id": "9a74dbfc",
   "metadata": {},
   "outputs": [],
   "source": []
  },
  {
   "cell_type": "markdown",
   "id": "53a8edb2",
   "metadata": {},
   "source": [
    "#### 14. 创建一个大小为 30 的随机向量，并找到其平均值 (★☆☆) \n",
    "`hint: mean`"
   ]
  },
  {
   "cell_type": "code",
   "execution_count": null,
   "id": "6691530b",
   "metadata": {},
   "outputs": [],
   "source": []
  },
  {
   "cell_type": "markdown",
   "id": "3b5b9b68",
   "metadata": {},
   "source": [
    "#### 15. 创建一个 5x5 的矩阵，在对角线下方填充 1,2,3,4 (★☆☆) \n",
    "`hint: np.diag`"
   ]
  },
  {
   "cell_type": "code",
   "execution_count": null,
   "id": "6eb25e54",
   "metadata": {},
   "outputs": [],
   "source": []
  },
  {
   "cell_type": "markdown",
   "id": "e9661c11",
   "metadata": {},
   "source": [
    "#### 16. 使用 tile 函数创建一个 8x8 的棋盘格矩阵 (★☆☆) \n",
    "`hint: np.tile`"
   ]
  },
  {
   "cell_type": "code",
   "execution_count": null,
   "id": "59dff7f6",
   "metadata": {},
   "outputs": [],
   "source": []
  },
  {
   "cell_type": "markdown",
   "id": "cbaad31c",
   "metadata": {},
   "source": [
    "#### 17. 创建一个二维数组，边界值为 1，内部值为 0 (★☆☆) \n",
    "`hint: array[1:-1, 1:-1]`\n",
    "```\n",
    "eg. [[1,1,1],\n",
    "     [1,0,1],\n",
    "     [1,1,1]]\n",
    "```"
   ]
  },
  {
   "cell_type": "code",
   "execution_count": null,
   "id": "ad8308e3",
   "metadata": {},
   "outputs": [],
   "source": []
  },
  {
   "cell_type": "markdown",
   "id": "c5ecc267",
   "metadata": {},
   "source": [
    "#### 18. 如何在现有数组周围添加一个填充 0 的边框？ (★☆☆) \n",
    "`hint: np.pad`"
   ]
  },
  {
   "cell_type": "code",
   "execution_count": null,
   "id": "9d5c78c4",
   "metadata": {},
   "outputs": [],
   "source": []
  },
  {
   "cell_type": "markdown",
   "id": "a65da660",
   "metadata": {},
   "source": [
    "#### 19. 创建一个 8x8 的矩阵，并填充成棋盘格模式 (★☆☆) \n",
    "`hint: array[::2]`"
   ]
  },
  {
   "cell_type": "code",
   "execution_count": null,
   "id": "ed150400",
   "metadata": {},
   "outputs": [],
   "source": []
  },
  {
   "cell_type": "markdown",
   "id": "9f7f9c49",
   "metadata": {},
   "source": [
    "#### 20. 考虑一个形状为 (6,7,8) 的数组，第 100 个元素的索引 (x,y,z) 是什么？ (★☆☆) \n",
    "`hint: np.unravel_index`"
   ]
  },
  {
   "cell_type": "code",
   "execution_count": null,
   "id": "3782b5a9",
   "metadata": {},
   "outputs": [],
   "source": []
  },
  {
   "cell_type": "markdown",
   "id": "d5bcfc08",
   "metadata": {},
   "source": [
    "#### 21. 将一个 5x5 的随机矩阵标准化 (★☆☆) \n",
    "`hint: (x -mean)/std`"
   ]
  },
  {
   "cell_type": "code",
   "execution_count": null,
   "id": "cea6c993",
   "metadata": {},
   "outputs": [],
   "source": []
  },
  {
   "cell_type": "markdown",
   "id": "f9a0911e",
   "metadata": {},
   "source": [
    "#### 22. 创建一个描述颜色的自定义 dtype（四个无符号字节 - RGBA） (★☆☆) \n",
    "`hint: np.dtype`"
   ]
  },
  {
   "cell_type": "code",
   "execution_count": null,
   "id": "d165044b",
   "metadata": {},
   "outputs": [],
   "source": []
  },
  {
   "cell_type": "markdown",
   "id": "654805b1",
   "metadata": {},
   "source": [
    "#### 23. 将一个 5x3 的矩阵与一个 3x2 的矩阵相乘（真正的矩阵乘积） (★☆☆) \n",
    "`hint: np.dot`"
   ]
  },
  {
   "cell_type": "code",
   "execution_count": null,
   "id": "6a42619f",
   "metadata": {},
   "outputs": [],
   "source": []
  },
  {
   "cell_type": "markdown",
   "id": "994c25df",
   "metadata": {},
   "source": [
    "#### 24. 给定一个一维数组，反转(即乘以-1)所有介于 3 和 8 之间的元素，就地进行。 (★☆☆) \n",
    "`hint: >, <`"
   ]
  },
  {
   "cell_type": "code",
   "execution_count": null,
   "id": "e4b39c03",
   "metadata": {},
   "outputs": [],
   "source": []
  },
  {
   "cell_type": "markdown",
   "id": "57bee502",
   "metadata": {},
   "source": [
    "#### 25. 以下表达式的结果是什么？ (★☆☆) \n",
    "`hint: NaN = not a number, inf = infinity`\n",
    "```python\n",
    "0 * np.nan\n",
    "np.nan == np.nan\n",
    "np.inf > np.nan\n",
    "np.nan - np.nan\n",
    "np.nan in set([np.nan])\n",
    "0.3 == 3 * 0.1\n",
    "```"
   ]
  },
  {
   "cell_type": "code",
   "execution_count": null,
   "id": "c49ba975",
   "metadata": {},
   "outputs": [],
   "source": []
  },
  {
   "cell_type": "markdown",
   "id": "b7d15d1a",
   "metadata": {},
   "source": [
    "#### 26. 以下脚本的输出是什么？ (★☆☆)\n",
    "```\n",
    "print(sum(range(5),-1))\n",
    "from numpy import *\n",
    "print(sum(range(5),-1))\n",
    "```"
   ]
  },
  {
   "cell_type": "code",
   "execution_count": null,
   "id": "4c95bc3f",
   "metadata": {},
   "outputs": [],
   "source": []
  },
  {
   "cell_type": "markdown",
   "id": "a34f0d08",
   "metadata": {},
   "source": [
    "####  27. 考虑一个整数向量 Z，这些表达式中哪些是合法的？ (★☆☆)\n",
    "```python\n",
    "Z**Z\n",
    "2 << Z >> 2\n",
    "Z <- Z\n",
    "1j*Z\n",
    "Z/1/1\n",
    "Z<Z>Z\n",
    "```"
   ]
  },
  {
   "cell_type": "code",
   "execution_count": null,
   "id": "564658fc",
   "metadata": {},
   "outputs": [],
   "source": []
  },
  {
   "cell_type": "markdown",
   "id": "c34e94bf",
   "metadata": {},
   "source": [
    "#### 28. 以下表达式的结果是什么？ (★☆☆)\n",
    "np.array(0) / np.array(0)\n",
    "np.array(0) // np.array(0)\n",
    "np.array([np.nan]).astype(int).astype(float)\n",
    "```"
   ]
  },
  {
   "cell_type": "code",
   "execution_count": null,
   "id": "56663562",
   "metadata": {},
   "outputs": [],
   "source": []
  },
  {
   "cell_type": "markdown",
   "id": "546f5e7b",
   "metadata": {},
   "source": [
    "#### 29. 如何将一个浮点数组四舍五入到远离零的地方？ (★☆☆)\n",
    "`hint: np.uniform, np.copysign, np.ceil, np.abs, np.where`"
   ]
  },
  {
   "cell_type": "code",
   "execution_count": null,
   "id": "f725a6d2",
   "metadata": {},
   "outputs": [],
   "source": []
  },
  {
   "cell_type": "markdown",
   "id": "eadca856",
   "metadata": {},
   "source": [
    "#### 30. 如何找到两个数组之间的公共值？ (★☆☆) \n",
    "`hint: np.intersect1d`"
   ]
  },
  {
   "cell_type": "code",
   "execution_count": null,
   "id": "e0270b5b",
   "metadata": {},
   "outputs": [],
   "source": []
  },
  {
   "cell_type": "markdown",
   "id": "73516e38",
   "metadata": {},
   "source": [
    "## 入门题\n",
    "需要开始频繁的检索官方文档"
   ]
  },
  {
   "cell_type": "markdown",
   "id": "ca16ca22",
   "metadata": {},
   "source": [
    "#### 31. 如何忽略所有 numpy 警告（不推荐）？ (★☆☆) \n",
    "`hint: np.seterr, np.errstate`\n"
   ]
  },
  {
   "cell_type": "code",
   "execution_count": null,
   "id": "7d7208ef",
   "metadata": {},
   "outputs": [],
   "source": []
  },
  {
   "cell_type": "markdown",
   "id": "c7871d0d",
   "metadata": {},
   "source": [
    "#### 32. 以下表达式为真吗？ (★☆☆)\n",
    "```python\n",
    "np.sqrt(-1) == np.emath.sqrt(-1)\n",
    "```"
   ]
  },
  {
   "cell_type": "code",
   "execution_count": null,
   "id": "acc3701a",
   "metadata": {},
   "outputs": [],
   "source": []
  },
  {
   "cell_type": "markdown",
   "id": "4a64e059",
   "metadata": {},
   "source": [
    "####  33. 如何就地计算 ((A+B)*(-A/2)) 而不进行复制？ (★★☆)\n",
    "`hint: np.add(out=), np.negative(out=), np.multiply(out=), np.divide(out=)`"
   ]
  },
  {
   "cell_type": "code",
   "execution_count": null,
   "id": "49267f60",
   "metadata": {},
   "outputs": [],
   "source": []
  },
  {
   "cell_type": "markdown",
   "id": "8a98c2a8",
   "metadata": {},
   "source": [
    "#### 34. 使用 4 种不同的方法提取一个随机正数组的整数部分 (★★☆) \n",
    "`hint: %, np.floor, astype, np.trunc`"
   ]
  },
  {
   "cell_type": "code",
   "execution_count": null,
   "id": "368130b3",
   "metadata": {},
   "outputs": [],
   "source": []
  },
  {
   "cell_type": "markdown",
   "id": "5a2e3d85",
   "metadata": {},
   "source": [
    "#### 35. 创建一个 5x5 的矩阵，每行的值范围从 0 到 4 (★★☆) \n",
    "`hint: np.arange`"
   ]
  },
  {
   "cell_type": "code",
   "execution_count": null,
   "id": "1d974e8f",
   "metadata": {},
   "outputs": [],
   "source": []
  },
  {
   "cell_type": "markdown",
   "id": "c6f2c912",
   "metadata": {},
   "source": [
    "#### 36. 创建一个大小为 10 的向量，值范围从 0 到 1（不包括 0 和 1） (★★☆) \n",
    "`hint: np.linspace`"
   ]
  },
  {
   "cell_type": "code",
   "execution_count": null,
   "id": "6aaa27d3",
   "metadata": {},
   "outputs": [],
   "source": []
  },
  {
   "cell_type": "markdown",
   "id": "a36d6ee4",
   "metadata": {},
   "source": [
    "#### 37. 创建一个大小为 10 的随机向量，并对其进行排序 (★★☆) \n",
    "`hint: sort`"
   ]
  },
  {
   "cell_type": "code",
   "execution_count": null,
   "id": "e589d216",
   "metadata": {},
   "outputs": [],
   "source": []
  },
  {
   "cell_type": "markdown",
   "id": "0fb4ad68",
   "metadata": {},
   "source": [
    "####  38. 考虑两个随机数组 A 和 B，检查它们是否相等 (★★☆) \n",
    "`hint: np.allclose, np.array_equal`"
   ]
  },
  {
   "cell_type": "code",
   "execution_count": null,
   "id": "a1ba05a0",
   "metadata": {},
   "outputs": [],
   "source": []
  },
  {
   "cell_type": "markdown",
   "id": "024ac365",
   "metadata": {},
   "source": [
    "#### 39. 考虑一个随机 10x2 矩阵，表示笛卡尔坐标，将其转换为极坐标 (★★☆) \n",
    "`hint: np.sqrt, np.arctan2`"
   ]
  },
  {
   "cell_type": "code",
   "execution_count": null,
   "id": "7db3846d",
   "metadata": {},
   "outputs": [],
   "source": []
  },
  {
   "cell_type": "markdown",
   "id": "c68d2401",
   "metadata": {},
   "source": [
    "#### 40. 创建一个大小为 10 的随机向量，并将最大值替换为 0 (★★☆) \n",
    "`hint: argmax`"
   ]
  },
  {
   "cell_type": "code",
   "execution_count": null,
   "id": "7828539d",
   "metadata": {},
   "outputs": [],
   "source": []
  },
  {
   "cell_type": "markdown",
   "id": "55df6280",
   "metadata": {},
   "source": [
    "#### 41. 创建一个覆盖 [0,1]x[0,1] 区域的 `x` 和 `y` 坐标的结构化数组 (★★☆) \n",
    "`hint: np.meshgrid`"
   ]
  },
  {
   "cell_type": "code",
   "execution_count": null,
   "id": "f1c86ea0",
   "metadata": {},
   "outputs": [],
   "source": []
  },
  {
   "cell_type": "markdown",
   "id": "2f60f1ec",
   "metadata": {},
   "source": [
    "#### 42. 给定两个数组，X 和 Y，构造 Cauchy 矩阵 C (Cij =1/(xi - yj)) (★★☆) \n",
    "`hint: np.subtract.outer`"
   ]
  },
  {
   "cell_type": "code",
   "execution_count": null,
   "id": "d9f48f1c",
   "metadata": {},
   "outputs": [],
   "source": []
  },
  {
   "cell_type": "markdown",
   "id": "084e8ad4",
   "metadata": {},
   "source": [
    "#### 43. 打印每个 numpy 标量类型的最小和最大可表示值 (★★☆) \n",
    "`hint: np.iinfo, np.finfo, eps`"
   ]
  },
  {
   "cell_type": "code",
   "execution_count": null,
   "id": "58b47c13",
   "metadata": {},
   "outputs": [],
   "source": []
  },
  {
   "cell_type": "markdown",
   "id": "d7b9bc42",
   "metadata": {},
   "source": [
    "#### 44. 如何在一个向量中找到最接近给定标量的值？ (★★☆) \n",
    "`hint: argmin`"
   ]
  },
  {
   "cell_type": "code",
   "execution_count": null,
   "id": "a24824fb",
   "metadata": {},
   "outputs": [],
   "source": []
  },
  {
   "cell_type": "markdown",
   "id": "65ebc11b",
   "metadata": {},
   "source": [
    "#### 45. 创建一个表示位置 (x,y) 和颜色 (r,g,b) 的结构化数组 (★★☆) \n",
    "`hint: dtype`"
   ]
  },
  {
   "cell_type": "code",
   "execution_count": null,
   "id": "e45d38fb",
   "metadata": {},
   "outputs": [],
   "source": []
  },
  {
   "cell_type": "markdown",
   "id": "9b317a98",
   "metadata": {},
   "source": [
    "#### 46. 考虑一个形状为 (100,2) 的随机向量，表示坐标，找到逐点距离 (★★☆) \n",
    "`hint: np.atleast_2d, T, np.sqrt`"
   ]
  },
  {
   "cell_type": "code",
   "execution_count": null,
   "id": "309cdeb9",
   "metadata": {},
   "outputs": [],
   "source": []
  },
  {
   "cell_type": "markdown",
   "id": "b580f9d0",
   "metadata": {},
   "source": [
    "#### 47. 如何将一个浮点（32 位）数组就地转换为整数（32 位）？ \n",
    "`hint: view and [:] =`"
   ]
  },
  {
   "cell_type": "code",
   "execution_count": null,
   "id": "ebfb6714",
   "metadata": {},
   "outputs": [],
   "source": []
  },
  {
   "cell_type": "markdown",
   "id": "602e6252",
   "metadata": {},
   "source": [
    "#### 48. 如何读取以下文件？ (★★☆) \n",
    "`hint: np.genfromtxt`\n",
    "```\n",
    "1, 2, 3, 4, 5\n",
    "6,  ,  , 7, 8\n",
    " ,  , 9,10,11\n",
    "```\n"
   ]
  },
  {
   "cell_type": "code",
   "execution_count": null,
   "id": "cf002b3a",
   "metadata": {},
   "outputs": [],
   "source": []
  },
  {
   "cell_type": "markdown",
   "id": "78bcd92f",
   "metadata": {},
   "source": [
    "#### 49. numpy 数组的 enumerate 等效函数是什么？ (★★☆)\n",
    "`hint: np.ndenumerate, np.ndindex`"
   ]
  },
  {
   "cell_type": "code",
   "execution_count": null,
   "id": "fea7f9a6",
   "metadata": {},
   "outputs": [],
   "source": []
  },
  {
   "cell_type": "markdown",
   "id": "343c5a85",
   "metadata": {},
   "source": [
    "####  50. 生成一个通用的二维高斯数组 (★★☆) \n",
    "`hint: np.meshgrid, np.exp`"
   ]
  },
  {
   "cell_type": "code",
   "execution_count": null,
   "id": "fc1b687b",
   "metadata": {},
   "outputs": [],
   "source": []
  },
  {
   "cell_type": "markdown",
   "id": "a69e1ace",
   "metadata": {},
   "source": [
    "#### 51. 如何在一个二维数组中随机放置 p 个元素？ (★★☆) \n",
    "`hint: np.put, np.random.choice`"
   ]
  },
  {
   "cell_type": "code",
   "execution_count": null,
   "id": "1c7957d4",
   "metadata": {},
   "outputs": [],
   "source": []
  },
  {
   "cell_type": "markdown",
   "id": "c23bd80d",
   "metadata": {},
   "source": [
    "#### 52. 如何减去矩阵每一行的均值？ (★★☆)\n",
    "`hint: mean(axis=,keepdims=)`"
   ]
  },
  {
   "cell_type": "code",
   "execution_count": null,
   "id": "d95d9578",
   "metadata": {},
   "outputs": [],
   "source": []
  },
  {
   "cell_type": "markdown",
   "id": "2153a5ec",
   "metadata": {},
   "source": [
    "#### 53. 如何按第 n 列对数组进行排序？ (★★☆)\n",
    "`hint: argsort`\n",
    "```\n",
    "eg. 排序前：\n",
    "    1 2 3\n",
    "    4 1 6\n",
    "    7 0 5\n",
    "\n",
    "按第二列排序后：\n",
    "    7 0 5\n",
    "    4 1 6\n",
    "    1 2 3 \n",
    "```\n"
   ]
  },
  {
   "cell_type": "code",
   "execution_count": null,
   "id": "61122d1e",
   "metadata": {},
   "outputs": [],
   "source": []
  },
  {
   "cell_type": "markdown",
   "id": "2e76d589",
   "metadata": {},
   "source": [
    "#### 54. 如何判断给定的二维数组是否有空列？ (★★☆)\n",
    "`hint: any, ~`"
   ]
  },
  {
   "cell_type": "code",
   "execution_count": null,
   "id": "0c2e4fcc",
   "metadata": {},
   "outputs": [],
   "source": []
  },
  {
   "cell_type": "markdown",
   "id": "8b3933eb",
   "metadata": {},
   "source": [
    "#### 55. 从数组中找到最接近给定值的值 (★★☆)\n",
    "`hint: np.abs, argmin, flat`"
   ]
  },
  {
   "cell_type": "code",
   "execution_count": null,
   "id": "a306c9ef",
   "metadata": {},
   "outputs": [],
   "source": []
  },
  {
   "cell_type": "markdown",
   "id": "ea8807c0",
   "metadata": {},
   "source": [
    "#### 56. 考虑形状为 (1,3) 和 (3,1) 的两个数组，如何使用迭代器计算它们的和？ (★★☆)\n",
    "`hint: np.nditer`\n"
   ]
  },
  {
   "cell_type": "code",
   "execution_count": null,
   "id": "cc89a699",
   "metadata": {},
   "outputs": [],
   "source": []
  },
  {
   "cell_type": "markdown",
   "id": "00fa00a1",
   "metadata": {},
   "source": [
    "#### 57. 考虑一个给定的向量，如何将第二个向量索引处的每个元素加 1（注意重复索引）？ (★★★)\n",
    "`hint: np.bincount | np.add.at`\n",
    "```\n",
    "处理前：\n",
    "Z = [1, 2, 3]\n",
    "I = [0, 0, 2, 1, 1, 0]\n",
    "\n",
    "I索引下'0':3,'1':2,'2':1\n",
    "处理后：\n",
    "Z = [1+3, 2+2, 3+1]\n",
    "```"
   ]
  },
  {
   "cell_type": "code",
   "execution_count": null,
   "id": "f2a82bbe",
   "metadata": {},
   "outputs": [],
   "source": []
  },
  {
   "cell_type": "markdown",
   "id": "51e041c3",
   "metadata": {},
   "source": [
    "#### 58. 如何基于索引列表 (I) 将向量 (X) 的元素累积到数组 (F) 中？ (★★★)\n",
    "`hint: np.bincount`"
   ]
  },
  {
   "cell_type": "code",
   "execution_count": null,
   "id": "3436e165",
   "metadata": {},
   "outputs": [],
   "source": []
  },
  {
   "cell_type": "markdown",
   "id": "4c5ef66e",
   "metadata": {},
   "source": [
    "#### 59. 如何基于索引列表 (I) 将向量 (X) 的元素累积到数组 (F) 中？ (★★★)\n",
    "`hint: np.bincount`\n",
    "```\n",
    "X = [1,2,3,4,5,6]\n",
    "I = [1,3,9,3,4,1]\n",
    "\n",
    "F = [0,7,0,6,5,0,0,0,0,3]\n",
    "```"
   ]
  },
  {
   "cell_type": "code",
   "execution_count": null,
   "id": "e60f4b5c",
   "metadata": {},
   "outputs": [],
   "source": []
  },
  {
   "cell_type": "markdown",
   "id": "b0566662",
   "metadata": {},
   "source": [
    "#### 60. 如何获取点积的对角线？ (★★★)\n",
    "`hint: np.diag`"
   ]
  },
  {
   "cell_type": "code",
   "execution_count": null,
   "id": "1e81d9cb",
   "metadata": {},
   "outputs": [],
   "source": []
  },
  {
   "cell_type": "markdown",
   "id": "5480019b",
   "metadata": {},
   "source": [
    "#### 61. 考虑一个四维数组，如何一次对最后两个轴求和？ (★★★)\n",
    "`hint: sum(axis=(-2,-1))`"
   ]
  },
  {
   "cell_type": "code",
   "execution_count": null,
   "id": "15d5ce02",
   "metadata": {},
   "outputs": [],
   "source": []
  },
  {
   "cell_type": "markdown",
   "id": "9f5fcd7c",
   "metadata": {},
   "source": [
    "#### 62. 考虑一个一维向量 D，如何使用描述子集索引的相同大小的向量 S 计算 D 的子集均值？ (★★★)\n",
    "`hint: np.bincount`"
   ]
  },
  {
   "cell_type": "code",
   "execution_count": null,
   "id": "c37d0a75",
   "metadata": {},
   "outputs": [],
   "source": []
  },
  {
   "cell_type": "markdown",
   "id": "9ee1bec5",
   "metadata": {},
   "source": [
    "#### 63. 考虑向量 [1, 2, 3, 4, 5]，如何构建一个在每个值之间插入 3 个连续零的新向量？ (★★★)\n",
    "`hint: array[::4]`"
   ]
  },
  {
   "cell_type": "code",
   "execution_count": null,
   "id": "3d282d50",
   "metadata": {},
   "outputs": [],
   "source": []
  },
  {
   "cell_type": "markdown",
   "id": "fccf680d",
   "metadata": {},
   "source": [
    "#### 64. 考虑一个形状为 (5,5,3) 的数组，如何将其与形状为 (5,5) 的数组相乘？ (★★★)\n",
    "`hint: array[:, :, None]`"
   ]
  },
  {
   "cell_type": "code",
   "execution_count": null,
   "id": "73cdd5d7",
   "metadata": {},
   "outputs": [],
   "source": []
  },
  {
   "cell_type": "markdown",
   "id": "f010212c",
   "metadata": {},
   "source": [
    "#### 65. 如何交换数组的两行？ (★★★)\n",
    "`hint: array[[]] = array[[]]`\n"
   ]
  },
  {
   "cell_type": "code",
   "execution_count": null,
   "id": "6532012f",
   "metadata": {},
   "outputs": [],
   "source": []
  },
  {
   "cell_type": "markdown",
   "id": "062399aa",
   "metadata": {},
   "source": [
    "#### 66. 如何取反一个布尔值，或就地改变一个浮点数的符号？ (★★☆)\n",
    "`hint: np.logical_not, np.negative`"
   ]
  },
  {
   "cell_type": "code",
   "execution_count": null,
   "id": "4f8e0941",
   "metadata": {},
   "outputs": [],
   "source": []
  },
  {
   "cell_type": "markdown",
   "id": "958e4743",
   "metadata": {},
   "source": [
    "#### 67. 计算矩阵的秩 (★★★)\n",
    "`hint: np.linalg.svd, np.linalg.matrix_rank`"
   ]
  },
  {
   "cell_type": "code",
   "execution_count": null,
   "id": "6420ff97",
   "metadata": {},
   "outputs": [],
   "source": []
  },
  {
   "cell_type": "markdown",
   "id": "3506d9ce",
   "metadata": {},
   "source": [
    "#### 68. 如何找到数组中最频繁的值？(★★☆)\n",
    "`hint: np.bincount, argmax`"
   ]
  },
  {
   "cell_type": "code",
   "execution_count": null,
   "id": "337393b2",
   "metadata": {},
   "outputs": [],
   "source": []
  },
  {
   "cell_type": "markdown",
   "id": "6f431bfc",
   "metadata": {},
   "source": [
    "#### 69. 创建一个二维数组子类，使得 Z[i,j] == Z[j,i] (★★★)\n",
    "`hint: class method`"
   ]
  },
  {
   "cell_type": "code",
   "execution_count": null,
   "id": "a94b6888",
   "metadata": {},
   "outputs": [],
   "source": []
  },
  {
   "cell_type": "markdown",
   "id": "174a92de",
   "metadata": {},
   "source": [
    "#### 70. 如何获得数组的 n 个最大值 (★★★)\n",
    "`hint: np.argsort | np.argpartition`"
   ]
  },
  {
   "cell_type": "code",
   "execution_count": null,
   "id": "9cacbf2e",
   "metadata": {},
   "outputs": [],
   "source": []
  },
  {
   "cell_type": "markdown",
   "id": "2f485a72",
   "metadata": {},
   "source": [
    "## 进阶题\n",
    "更加偏向于代码编写和思路转换，\n",
    "需要对numpy有一定的了解才能做出来"
   ]
  },
  {
   "cell_type": "markdown",
   "id": "457afa08",
   "metadata": {},
   "source": [
    "#### 71. 创建一个具有名称属性的数组类 (★★★)\n",
    "`hint: class method`"
   ]
  },
  {
   "cell_type": "code",
   "execution_count": null,
   "id": "618789d6",
   "metadata": {},
   "outputs": [],
   "source": []
  },
  {
   "cell_type": "markdown",
   "id": "abe78053",
   "metadata": {},
   "source": [
    "#### 72. 考虑一组描述 10 个三角形（具有共享顶点）的 10 个三元组，找到构成所有三角形的唯一线段集合 (★★★)\n",
    "`hint: repeat, np.roll, np.sort, view, np.unique`"
   ]
  },
  {
   "cell_type": "code",
   "execution_count": null,
   "id": "750ba04e",
   "metadata": {},
   "outputs": [],
   "source": []
  },
  {
   "cell_type": "markdown",
   "id": "d1dc1262",
   "metadata": {},
   "source": [
    "#### 73. 给定一个对应于 bincount 的排序数组 C，如何生成一个数组 A 使得 np.bincount(A) == C？ (★★★)\n",
    "`hint: np.repeat`"
   ]
  },
  {
   "cell_type": "code",
   "execution_count": null,
   "id": "b6fd04df",
   "metadata": {},
   "outputs": [],
   "source": []
  },
  {
   "cell_type": "markdown",
   "id": "dd83e8af",
   "metadata": {},
   "source": [
    "#### 74. 考虑一个 (w,h,3) 形状的图像 (dtype=ubyte)，计算唯一颜色的数量 (★★☆)\n",
    "`hint: np.unique`"
   ]
  },
  {
   "cell_type": "code",
   "execution_count": null,
   "id": "fec5d736",
   "metadata": {},
   "outputs": [],
   "source": []
  },
  {
   "cell_type": "markdown",
   "id": "01f27abf",
   "metadata": {},
   "source": [
    "#### 75. 考虑两组点 P0,P1 描述线（2D）和一个点 p，如何计算从 p 到每条线 i (P0[i],P1[i]) 的距离？ (★★★)\n",
    "`No hints provided...`"
   ]
  },
  {
   "cell_type": "code",
   "execution_count": null,
   "id": "ad4b4d84",
   "metadata": {},
   "outputs": [],
   "source": []
  },
  {
   "cell_type": "markdown",
   "id": "88dd84fe",
   "metadata": {},
   "source": [
    "#### 76. 考虑两组点 P0,P1 描述线（2D）和一组点 P，如何计算从每个点 j (P[j]) 到每条线 i (P0[i],P1[i]) 的距离？ (★★★)\n",
    "`No hints provided...`"
   ]
  },
  {
   "cell_type": "code",
   "execution_count": null,
   "id": "11597df7",
   "metadata": {},
   "outputs": [],
   "source": []
  },
  {
   "cell_type": "markdown",
   "id": "9936c76c",
   "metadata": {},
   "source": [
    "#### 77. 考虑一个任意数组，编写一个函数以固定形状提取子部分并以给定元素为中心（必要时用 `fill` 值填充） (★★★)\n",
    "`hint: minimum maximum`"
   ]
  },
  {
   "cell_type": "code",
   "execution_count": null,
   "id": "b643cba6",
   "metadata": {},
   "outputs": [],
   "source": []
  },
  {
   "cell_type": "markdown",
   "id": "9eeb3067",
   "metadata": {},
   "source": [
    "#### 78. 考虑形状为 (n,n) 的 p 个矩阵和形状为 (n,1) 的 p 个向量，如何一次计算 p 个矩阵乘积的和？（结果形状为 (n,1)）(★★★)\n",
    "`hint: np.tensordot`"
   ]
  },
  {
   "cell_type": "code",
   "execution_count": null,
   "id": "dc466d6b",
   "metadata": {},
   "outputs": [],
   "source": []
  },
  {
   "cell_type": "markdown",
   "id": "8da666a8",
   "metadata": {},
   "source": [
    "#### 79. 给定任意数量的向量，构建笛卡尔积（每个项目的每种组合） (★★★)\n",
    "`hint: np.indices`"
   ]
  },
  {
   "cell_type": "code",
   "execution_count": null,
   "id": "555b2e37",
   "metadata": {},
   "outputs": [],
   "source": []
  },
  {
   "cell_type": "markdown",
   "id": "7c305f5c",
   "metadata": {},
   "source": [
    "#### 80. 考虑一个大的向量 Z，使用 3 种不同的方法计算 Z 的立方 (★★★)\n",
    "`hint: np.power, *, np.einsum`"
   ]
  },
  {
   "cell_type": "code",
   "execution_count": null,
   "id": "eebddbc7",
   "metadata": {},
   "outputs": [],
   "source": []
  },
  {
   "cell_type": "markdown",
   "id": "48d84493",
   "metadata": {},
   "source": [
    "#### 81. 考虑形状为 (8,3) 和 (2,2) 的两个数组 A 和 B，如何找到 A 的行，其中包含 B 的每一行的元素，而不考虑 B 中元素的顺序？ (★★★)\n",
    "`hint: np.where`"
   ]
  },
  {
   "cell_type": "code",
   "execution_count": null,
   "id": "e845978e",
   "metadata": {},
   "outputs": [],
   "source": []
  },
  {
   "cell_type": "markdown",
   "id": "b3d6a17a",
   "metadata": {},
   "source": [
    "#### 82. 考虑一个 10x3 的矩阵，提取具有不等值的行（例如 [2,2,3]）(★★★)\n",
    "`No hints provided...`"
   ]
  },
  {
   "cell_type": "code",
   "execution_count": null,
   "id": "29275ccc",
   "metadata": {},
   "outputs": [],
   "source": []
  },
  {
   "cell_type": "markdown",
   "id": "2ecd0659",
   "metadata": {},
   "source": [
    "#### 83. 将一个整数向量转换为矩阵的二进制表示 (★★★)\n",
    "`hint: np.unpackbits`"
   ]
  },
  {
   "cell_type": "code",
   "execution_count": null,
   "id": "1ba5eead",
   "metadata": {},
   "outputs": [],
   "source": []
  },
  {
   "cell_type": "markdown",
   "id": "f704e72e",
   "metadata": {},
   "source": [
    "#### 84. 给定一个二维数组，如何提取唯一的行？ (★★★)\n",
    "`hint: np.ascontiguousarray | np.unique`"
   ]
  },
  {
   "cell_type": "code",
   "execution_count": null,
   "id": "6d16b6c3",
   "metadata": {},
   "outputs": [],
   "source": []
  },
  {
   "cell_type": "markdown",
   "id": "bff7ad1a",
   "metadata": {},
   "source": [
    "#### 85. 考虑 2 个向量 A 和 B，编写 inner, outer, sum 和 mul 函数的 einsum 等效函数 (★★★)\n",
    "`hint: np.einsum`"
   ]
  },
  {
   "cell_type": "code",
   "execution_count": null,
   "id": "36131257",
   "metadata": {},
   "outputs": [],
   "source": []
  },
  {
   "cell_type": "markdown",
   "id": "1789d4e9",
   "metadata": {},
   "source": [
    "#### 86. 考虑由两个向量 (X,Y) 描述的路径，如何使用等距样本对其进行采样 (★★★)?\n",
    "`hint: np.cumsum, np.interp`"
   ]
  },
  {
   "cell_type": "markdown",
   "id": "4f8fb178",
   "metadata": {},
   "source": []
  },
  {
   "cell_type": "markdown",
   "id": "177367a5",
   "metadata": {},
   "source": [
    "#### 87. 给定一个整数 n 和一个二维数组 X，从 X 中选择可以解释为具有 n 个度的多项分布的行，即仅包含整数并且和为 n 的行。 (★★★)\n",
    "`hint:np.logical_and.reduce, np.mod`"
   ]
  },
  {
   "cell_type": "code",
   "execution_count": null,
   "id": "063682af",
   "metadata": {},
   "outputs": [],
   "source": []
  },
  {
   "cell_type": "markdown",
   "id": "888af5ab",
   "metadata": {},
   "source": [
    "#### 88. 计算一维数组 X 的 bootstrap 95% 置信区间（即，用替换的方式重新采样数组的元素 N 次，计算每个样本的均值，然后计算均值的百分位数）。 (★★★)\n",
    "`hint: np.percentile`"
   ]
  },
  {
   "cell_type": "markdown",
   "id": "2b281c3f",
   "metadata": {},
   "source": [
    "## 选做题"
   ]
  },
  {
   "cell_type": "markdown",
   "id": "4f7470ae",
   "metadata": {},
   "source": [
    "#### 89. 如何获取昨天、今天和明天的日期？ (★☆☆)\n",
    "`hint: np.datetime64, np.timedelta64`"
   ]
  },
  {
   "cell_type": "code",
   "execution_count": null,
   "id": "e874f548",
   "metadata": {},
   "outputs": [],
   "source": []
  },
  {
   "cell_type": "markdown",
   "id": "751f6144",
   "metadata": {},
   "source": [
    "#### 90. 如何获取对应于 2016 年 7 月的所有日期？ (★★☆)\n",
    "`hint: np.arange(dtype=datetime64['D'])`"
   ]
  },
  {
   "cell_type": "code",
   "execution_count": null,
   "id": "37f2d85c",
   "metadata": {},
   "outputs": [],
   "source": []
  },
  {
   "cell_type": "markdown",
   "id": "a7ae9431",
   "metadata": {},
   "source": [
    "#### 91. 使数组不可变（只读） (★★☆)\n",
    "`hint: flags.writeable`"
   ]
  },
  {
   "cell_type": "code",
   "execution_count": null,
   "id": "bbc89393",
   "metadata": {},
   "outputs": [],
   "source": []
  },
  {
   "cell_type": "markdown",
   "id": "8d19c2a7",
   "metadata": {},
   "source": [
    "#### 92. 如何比 np.sum 更快地对小数组求和？ (★★☆)\n",
    "`hint: np.add.reduce`"
   ]
  },
  {
   "cell_type": "code",
   "execution_count": null,
   "id": "c10a22c8",
   "metadata": {},
   "outputs": [],
   "source": []
  },
  {
   "cell_type": "markdown",
   "id": "60d6498c",
   "metadata": {},
   "source": [
    "#### 93. 如何打印数组的所有值？ (★★☆)\n",
    "`hint: np.set_printoptions`"
   ]
  },
  {
   "cell_type": "code",
   "execution_count": null,
   "id": "1b455ef1",
   "metadata": {},
   "outputs": [],
   "source": []
  },
  {
   "cell_type": "markdown",
   "id": "c9d87723",
   "metadata": {},
   "source": [
    "#### 94. 404 NOT FOUND"
   ]
  },
  {
   "cell_type": "code",
   "execution_count": null,
   "id": "cf592b47",
   "metadata": {},
   "outputs": [],
   "source": []
  },
  {
   "cell_type": "markdown",
   "id": "9e4133d9",
   "metadata": {},
   "source": [
    "#### 95. 如何使用滑动窗口计算数组的平均值？ (★★★)\n",
    "`hint: np.cumsum, from numpy.lib.stride_tricks import sliding_window_view (np>=1.20.0)`"
   ]
  },
  {
   "cell_type": "code",
   "execution_count": null,
   "id": "294a96f4",
   "metadata": {},
   "outputs": [],
   "source": []
  },
  {
   "cell_type": "markdown",
   "id": "b9c3d2c3",
   "metadata": {},
   "source": [
    "#### 96. 考虑一个一维数组 Z，构建一个二维数组，其第一行为 (Z[0],Z[1],Z[2])，每一行向后移动 1（最后一行为 (Z[-3],Z[-2],Z[-1])） (★★★)\n",
    "`hint: from numpy.lib import stride_tricks, from numpy.lib.stride_tricks import sliding_window_view (np>=1.20.0)`"
   ]
  },
  {
   "cell_type": "code",
   "execution_count": null,
   "id": "5c6e0dea",
   "metadata": {},
   "outputs": [],
   "source": []
  },
  {
   "cell_type": "markdown",
   "id": "d2f89d7c",
   "metadata": {},
   "source": [
    "#### 97. 考虑数组 Z = [1,2,3,4,5,6,7,8,9,10,11,12,13,14]，如何生成数组 R = [[1,2,3,4], [2,3,4,5], [3,4,5,6], ..., [11,12,13,14]]？ (★★★)\n",
    "`hint: stride_tricks.as_strided, from numpy.lib.stride_tricks import sliding_window_view (np>=1.20.0)`"
   ]
  },
  {
   "cell_type": "code",
   "execution_count": null,
   "id": "e7b30370",
   "metadata": {},
   "outputs": [],
   "source": []
  },
  {
   "cell_type": "markdown",
   "id": "b30f6e06",
   "metadata": {},
   "source": [
    "#### 98. 从一个随机的 10x10 矩阵中提取所有连续的 3x3 块 (★★★)\n",
    "`hint: stride_tricks.as_strided, from numpy.lib.stride_tricks import sliding_window_view (np>=1.20.0)`"
   ]
  },
  {
   "cell_type": "code",
   "execution_count": null,
   "id": "0c84b366",
   "metadata": {},
   "outputs": [],
   "source": []
  },
  {
   "cell_type": "markdown",
   "id": "3b989e52",
   "metadata": {},
   "source": [
    "#### 99. 考虑一个 16x16 的数组，如何获得块和（块大小为 4x4）？ (★★★)\n",
    "`hint: np.add.reduceat, from numpy.lib.stride_tricks import sliding_window_view (np>=1.20.0)`\n"
   ]
  },
  {
   "cell_type": "code",
   "execution_count": null,
   "id": "c3064613",
   "metadata": {},
   "outputs": [],
   "source": []
  },
  {
   "cell_type": "markdown",
   "id": "bff73951",
   "metadata": {},
   "source": [
    "#### 100. 如何从常规数组创建记录数组？ (★★★)\n",
    "`hint: np.core.records.fromarrays`"
   ]
  },
  {
   "cell_type": "code",
   "execution_count": null,
   "id": "86d7a3ff",
   "metadata": {},
   "outputs": [],
   "source": []
  }
 ],
 "metadata": {
  "kernelspec": {
   "display_name": "sakana",
   "language": "python",
   "name": "python3"
  },
  "language_info": {
   "codemirror_mode": {
    "name": "ipython",
    "version": 3
   },
   "file_extension": ".py",
   "mimetype": "text/x-python",
   "name": "python",
   "nbconvert_exporter": "python",
   "pygments_lexer": "ipython3",
   "version": "3.11.5"
  }
 },
 "nbformat": 4,
 "nbformat_minor": 5
}
